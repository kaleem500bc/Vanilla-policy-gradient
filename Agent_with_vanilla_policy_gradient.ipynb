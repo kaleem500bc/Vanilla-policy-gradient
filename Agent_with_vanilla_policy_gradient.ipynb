{
  "nbformat": 4,
  "nbformat_minor": 0,
  "metadata": {
    "colab": {
      "name": "Agent with vanilla policy gradient.ipynb",
      "provenance": [],
      "collapsed_sections": [],
      "authorship_tag": "ABX9TyOT6W4TMC+8n4K5UjUFqYxl",
      "include_colab_link": true
    },
    "kernelspec": {
      "name": "python3",
      "display_name": "Python 3"
    }
  },
  "cells": [
    {
      "cell_type": "markdown",
      "metadata": {
        "id": "view-in-github",
        "colab_type": "text"
      },
      "source": [
        "<a href=\"https://colab.research.google.com/github/kaleem500bc/Vanilla-policy-gradient/blob/main/Agent_with_vanilla_policy_gradient.ipynb\" target=\"_parent\"><img src=\"https://colab.research.google.com/assets/colab-badge.svg\" alt=\"Open In Colab\"/></a>"
      ]
    },
    {
      "cell_type": "code",
      "metadata": {
        "id": "yV_Qo06ZXtZu",
        "outputId": "b401d0b2-f188-48f3-9103-23fcd494c9e0",
        "colab": {
          "base_uri": "https://localhost:8080/"
        }
      },
      "source": [
        "!pip install PyVirtualDisplay"
      ],
      "execution_count": 145,
      "outputs": [
        {
          "output_type": "stream",
          "text": [
            "Collecting PyVirtualDisplay\n",
            "  Downloading https://files.pythonhosted.org/packages/d0/8a/643043cc70791367bee2d19eb20e00ed1a246ac48e5dbe57bbbcc8be40a9/PyVirtualDisplay-1.3.2-py2.py3-none-any.whl\n",
            "Collecting EasyProcess\n",
            "  Downloading https://files.pythonhosted.org/packages/48/3c/75573613641c90c6d094059ac28adb748560d99bd27ee6f80cce398f404e/EasyProcess-0.3-py2.py3-none-any.whl\n",
            "Installing collected packages: EasyProcess, PyVirtualDisplay\n",
            "Successfully installed EasyProcess-0.3 PyVirtualDisplay-1.3.2\n"
          ],
          "name": "stdout"
        }
      ]
    },
    {
      "cell_type": "code",
      "metadata": {
        "id": "NcQ86C_Wj6dk"
      },
      "source": [
        "import torch\n",
        "import torch.nn as nn\n",
        "import numpy as np\n",
        "import torch.nn.functional as F\n",
        "import gym\n",
        "from torch.distributions.categorical import Categorical\n",
        "from IPython.display import clear_output\n",
        "from IPython import display\n",
        "from pyvirtualdisplay import Display\n",
        "import os\n",
        "from matplotlib import pyplot as plt"
      ],
      "execution_count": 151,
      "outputs": []
    },
    {
      "cell_type": "code",
      "metadata": {
        "id": "Vxlq4UJCX43v",
        "outputId": "273a6c79-2b1b-4a2d-ea21-0cf38f5ff4be",
        "colab": {
          "base_uri": "https://localhost:8080/"
        }
      },
      "source": [
        "# make virtual screen and redirect render to this screen\n",
        "# From https://raw.githubusercontent.com/yandexdataschool/Practical_RL/master/setup_colab.sh\n",
        "!wget -q https://raw.githubusercontent.com/yandexdataschool/Practical_RL/master/setup_colab.sh -O- | bash\n",
        "!bash ../xvfb start\n",
        "os.environ['DISPLAY'] = ':1'"
      ],
      "execution_count": 152,
      "outputs": [
        {
          "output_type": "stream",
          "text": [
            "Starting virtual X frame buffer: Xvfb.\n"
          ],
          "name": "stdout"
        }
      ]
    },
    {
      "cell_type": "code",
      "metadata": {
        "id": "fKgDPmXukAQq"
      },
      "source": [
        "class model(nn.Module):\n",
        "  def __init__(self, n_states,n_actions):\n",
        "    super().__init__()\n",
        "    self.fc1 = nn.Linear(n_states,128)\n",
        "    self.fc2 = nn.Linear(128,256)\n",
        "    self.fc = nn.Linear(256,n_actions)\n",
        "\n",
        "  def forward(self, x):\n",
        "    x = F.relu(self.fc1(x))\n",
        "    x = F.relu(self.fc2(x))\n",
        "    x = self.fc(x)\n",
        "    return x\n",
        "\n",
        "class Agent(object):\n",
        "  def __init__(self, n_actions, n_states):\n",
        "    self.loss = []\n",
        "    self.score = []\n",
        "    self.rewardHistory = []\n",
        "    self.actionsHistory = []\n",
        "    self.statesHistory = []\n",
        "    self.model = model(n_actions, n_states)\n",
        "    self.optimizer = torch.optim.Adam(self.model.parameters(),\n",
        "                                      lr = 0.0001)\n",
        "\n",
        "  def getActionDistribution(self, state):\n",
        "    # Use categorical/ multinomial distribution for discrete action space\n",
        "    # as it allows exploration instead of argmax\n",
        "    # Use logits as the output of the model might not sum up to 1\n",
        "    act = Categorical(logits = self.model(state))\n",
        "    return act\n",
        "  \n",
        "  def getAction(self,state):\n",
        "    # Get action from the model given 'state' and sample from the multinomial \n",
        "    # distribution \n",
        "    act = self.getActionDistribution(state).sample().item()\n",
        "    return act\n",
        "\n",
        "\n",
        "  def train(self,episode):\n",
        "    state = env.reset()\n",
        "    done = False\n",
        "    while not done:\n",
        "      self.statesHistory.append(state)\n",
        "      act = self.getAction(torch.as_tensor(state,dtype=torch.float))\n",
        "      state, reward, done, _ = env.step(act)\n",
        "      self.rewardHistory.append(reward)\n",
        "      self.actionsHistory.append(act)\n",
        "    loss = self.lossFunc()\n",
        "    self.loss.append(loss)\n",
        "    self.score.append(len(self.rewardHistory))\n",
        "    print(\"episode: {}, Loss: {}, score: {}\".format(episode,loss,\n",
        "                                                    len(self.rewardHistory)))\n",
        "\n",
        "    # Back Propagation for 1 episode (Can be easily expanded to \n",
        "    # multiple episode which is more efficient)\n",
        "    self.optimizer.zero_grad()\n",
        "    loss.backward()\n",
        "    self.optimizer.step()\n",
        "\n",
        "    # Reset for next episode\n",
        "    self.statesHistory = []\n",
        "    self.actionsHistory = []\n",
        "    self.rewardHistory = []\n",
        "    \n",
        "  # Calculate loss for 1 episode\n",
        "  def lossFunc(self):\n",
        "\n",
        "    rewards_of_trajectory = sum(self.rewardHistory)\n",
        "    reward_tau = torch.as_tensor(len(self.rewardHistory)*rewards_of_trajectory,\n",
        "                                            dtype=torch.float)\n",
        "    \n",
        "    # Get log probablities from the distribution\n",
        "    # refer to the loss function of policy gradient\n",
        "    actionsProbs = self.getActionDistribution(\n",
        "        torch.as_tensor(self.statesHistory, dtype=torch.float)).log_prob(\n",
        "            torch.as_tensor(self.actionsHistory,dtype=torch.float))\n",
        "\n",
        "    # Negative sign for gradient ascend as BBP in torch is gradient descend\n",
        "    loss = -(reward_tau * actionsProbs).mean()\n",
        "    return loss\n"
      ],
      "execution_count": 201,
      "outputs": []
    },
    {
      "cell_type": "code",
      "metadata": {
        "id": "IkR8TYJtOWL7"
      },
      "source": [
        "env = gym.make(\"CartPole-v0\")\n",
        "agent = Agent(env.observation_space.shape[0],env.action_space.n)\n"
      ],
      "execution_count": 202,
      "outputs": []
    },
    {
      "cell_type": "code",
      "metadata": {
        "id": "oyknqY2CO01l"
      },
      "source": [
        "episode = 1000\n",
        "for e in range(episode):\n",
        "  agent.train(e)"
      ],
      "execution_count": null,
      "outputs": []
    },
    {
      "cell_type": "code",
      "metadata": {
        "id": "XSQTpL3Ujdui",
        "outputId": "93ddcf50-878b-4f53-f423-589d2ac8c913",
        "colab": {
          "base_uri": "https://localhost:8080/",
          "height": 282
        }
      },
      "source": [
        "plt.plot(agent.loss, label=\"Loss\")"
      ],
      "execution_count": 207,
      "outputs": [
        {
          "output_type": "execute_result",
          "data": {
            "text/plain": [
              "[<matplotlib.lines.Line2D at 0x7f8329f33358>]"
            ]
          },
          "metadata": {
            "tags": []
          },
          "execution_count": 207
        },
        {
          "output_type": "display_data",
          "data": {
            "image/png": "[encoded data removed]",
            "text/plain": [
              "<Figure size 432x288 with 1 Axes>"
            ]
          },
          "metadata": {
            "tags": [],
            "needs_background": "light"
          }
        }
      ]
    },
    {
      "cell_type": "code",
      "metadata": {
        "id": "6ZCy1VphXm_W"
      },
      "source": [
        "# Testing the agent\n",
        "state = env.reset()\n",
        "done = False\n",
        "display_img = plt.imshow(env.render(\"rgb_array\"))\n",
        "i = 0\n",
        "while not done:\n",
        "  state = torch.tensor(state,dtype=torch.float)\n",
        "  action = agent.model(state)\n",
        "  action = int(torch.argmax(action).item())\n",
        "  state, reward, done, _ = env.step(action)\n",
        "  display_img.set_data(env.render(\"rgb_array\"))\n",
        "  clear_output(wait=True)\n",
        "  display.display(plt.gcf())\n",
        "  i += 1\n",
        "print(i)"
      ],
      "execution_count": null,
      "outputs": []
    }
  ]
}